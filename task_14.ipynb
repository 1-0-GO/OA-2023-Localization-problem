{
 "cells": [
  {
   "cell_type": "code",
   "execution_count": null,
   "metadata": {},
   "outputs": [],
   "source": [
    "import matplotlib.pyplot as plt\n",
    "import numpy as np"
   ]
  },
  {
   "cell_type": "code",
   "execution_count": null,
   "metadata": {},
   "outputs": [],
   "source": [
    "def get_simulated_trajectory_measurements(f, T, a, x_0, v):\n",
    "    # f is how many samples to take per second\n",
    "    # T is the total time in which we are taking measurements\n",
    "    timeframes_per_second = 1000\n",
    "    nr_timeframes = T * timeframes_per_second\n",
    "    t = np.linspace(0, T, nr_timeframes)\n",
    "    x = x_0[0] + v[0]*t\n",
    "    y = x_0[1] + v[1]*t\n",
    "    # 2D trajectory points\n",
    "    trajectory = np.vstack((x,y)).T\n",
    "\n",
    "    skip = int(timeframes_per_second/f)\n",
    "    timeframes = np.arange(0, nr_timeframes, skip)\n",
    "\n",
    "    range_ = np.zeros(int(np.ceil(T*f)))\n",
    "    range_rate_ = np.zeros(int(np.ceil(T*f)))\n",
    "\n",
    "    for sample_nr in range(len(timeframes)):\n",
    "        timeframe = timeframes[sample_nr]\n",
    "        r_t = np.linalg.norm(a - trajectory[timeframe])\n",
    "        u_t = (trajectory[timeframe] - a)/r_t\n",
    "        s_t = np.inner(u_t, v)\n",
    "        range_[sample_nr] = r_t\n",
    "        range_rate_[sample_nr] = s_t\n",
    "    return range_, range_rate_\n",
    "\n",
    "#get_simulated_trajectory_measurements(1, 50, np.array((4,4)), np.array((0,1)), np.array((0.1,0.2)))"
   ]
  },
  {
   "cell_type": "code",
   "execution_count": 52,
   "metadata": {},
   "outputs": [
    {
     "name": "stdout",
     "output_type": "stream",
     "text": [
      "1.0 -1.0\n",
      "1.0 -0.5\n",
      "1.0 0.0\n",
      "1.0 0.5\n",
      "1.5 -1.0\n",
      "1.5 -0.5\n",
      "1.5 0.0\n",
      "1.5 0.5\n",
      "2.0 -1.0\n",
      "2.0 -0.5\n",
      "2.0 0.0\n",
      "2.0 0.5\n",
      "2.5 -1.0\n",
      "2.5 -0.5\n",
      "2.5 0.0\n",
      "2.5 0.5\n"
     ]
    }
   ],
   "source": [
    "plot_dim_x = (1, 3)\n",
    "plot_dim_y = (-1, 1)\n",
    "delta = 0.5\n",
    "#Measurements\n",
    "T = 50\n",
    "t = np.linspace(0, 1, T)\n",
    "a = np.array((4,4))\n",
    "x_0 = np.array((0,1))\n",
    "s_t = None\n",
    "r_t = None\n",
    "v_x = np.arange(*plot_dim_x, delta)\n",
    "v_y = np.arange(*plot_dim_y, delta)\n",
    "V_X, V_Y = np.meshgrid(v_x, v_y, indexing='ij')\n",
    "for i in range(len(v_x)):\n",
    "    for j in range(len(v_y)):\n",
    "        print(V_X[i,j], V_Y[i,j])"
   ]
  }
 ],
 "metadata": {
  "kernelspec": {
   "display_name": "base",
   "language": "python",
   "name": "python3"
  },
  "language_info": {
   "codemirror_mode": {
    "name": "ipython",
    "version": 3
   },
   "file_extension": ".py",
   "mimetype": "text/x-python",
   "name": "python",
   "nbconvert_exporter": "python",
   "pygments_lexer": "ipython3",
   "version": "3.9.18"
  }
 },
 "nbformat": 4,
 "nbformat_minor": 2
}
